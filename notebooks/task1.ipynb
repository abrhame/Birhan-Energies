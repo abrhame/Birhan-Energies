{
 "cells": [
  {
   "cell_type": "code",
   "execution_count": 2,
   "metadata": {},
   "outputs": [],
   "source": [
    "import pandas as pd\n",
    "import numpy as np\n",
    "import matplotlib.pyplot as plt\n",
    "import seaborn as sns\n",
    "from statsmodels.tsa.stattools import adfuller\n",
    "from statsmodels.graphics.tsaplots import plot_acf, plot_pacf\n",
    "from statsmodels.tsa.arima.model import ARIMA\n",
    "from statsmodels.tsa.holtwinters import ExponentialSmoothing\n",
    "from datetime import datetime"
   ]
  },
  {
   "cell_type": "code",
   "execution_count": 5,
   "metadata": {},
   "outputs": [],
   "source": [
    "plt.style.use('seaborn-v0_8-darkgrid')"
   ]
  },
  {
   "cell_type": "code",
   "execution_count": 7,
   "metadata": {},
   "outputs": [],
   "source": [
    "oil_data = pd.read_csv('../data/BrentOilPrices.csv')"
   ]
  },
  {
   "cell_type": "code",
   "execution_count": null,
   "metadata": {},
   "outputs": [
    {
     "name": "stdout",
     "output_type": "stream",
     "text": [
      "        Date  Price\n",
      "0  20-May-87  18.63\n",
      "1  21-May-87  18.45\n",
      "2  22-May-87  18.55\n",
      "3  25-May-87  18.60\n",
      "4  26-May-87  18.63\n",
      "<class 'pandas.core.frame.DataFrame'>\n",
      "RangeIndex: 9011 entries, 0 to 9010\n",
      "Data columns (total 2 columns):\n",
      " #   Column  Non-Null Count  Dtype  \n",
      "---  ------  --------------  -----  \n",
      " 0   Date    9011 non-null   object \n",
      " 1   Price   9011 non-null   float64\n",
      "dtypes: float64(1), object(1)\n",
      "memory usage: 140.9+ KB\n",
      "None\n"
     ]
    }
   ],
   "source": [
    "print(oil_data.head())\n",
    "print(oil_data.info())\n"
   ]
  },
  {
   "cell_type": "code",
   "execution_count": 9,
   "metadata": {},
   "outputs": [
    {
     "name": "stdout",
     "output_type": "stream",
     "text": [
      "Date      object\n",
      "Price    float64\n",
      "dtype: object\n"
     ]
    }
   ],
   "source": [
    "print(oil_data.dtypes)"
   ]
  },
  {
   "cell_type": "code",
   "execution_count": 11,
   "metadata": {},
   "outputs": [],
   "source": [
    "oil_data['Date'] = pd.to_datetime(oil_data['Date'], format='%m-%b-%y')"
   ]
  },
  {
   "cell_type": "code",
   "execution_count": 13,
   "metadata": {},
   "outputs": [
    {
     "name": "stdout",
     "output_type": "stream",
     "text": [
      "Date     datetime64[ns]\n",
      "Price           float64\n",
      "dtype: object\n",
      "        Date  Price\n",
      "0 1987-05-20  18.63\n",
      "1 1987-05-21  18.45\n",
      "2 1987-05-22  18.55\n",
      "3 1987-05-25  18.60\n",
      "4 1987-05-26  18.63\n"
     ]
    }
   ],
   "source": [
    "print(oil_data.dtypes)\n",
    "print(oil_data.head())"
   ]
  },
  {
   "cell_type": "code",
   "execution_count": null,
   "metadata": {},
   "outputs": [],
   "source": []
  }
 ],
 "metadata": {
  "kernelspec": {
   "display_name": "env",
   "language": "python",
   "name": "python3"
  },
  "language_info": {
   "codemirror_mode": {
    "name": "ipython",
    "version": 3
   },
   "file_extension": ".py",
   "mimetype": "text/x-python",
   "name": "python",
   "nbconvert_exporter": "python",
   "pygments_lexer": "ipython3",
   "version": "3.11.4"
  }
 },
 "nbformat": 4,
 "nbformat_minor": 2
}
